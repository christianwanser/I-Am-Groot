{
 "cells": [
  {
   "cell_type": "code",
   "execution_count": 1,
   "id": "9d90bbd9",
   "metadata": {},
   "outputs": [],
   "source": [
    "\n",
    "#import libraries\n",
    "import math\n",
    "\n",
    "from scipy.stats import norm\n",
    "\n",
    "import numpy as np\n"
   ]
  },
  {
   "cell_type": "code",
   "execution_count": 2,
   "id": "664d0d84",
   "metadata": {},
   "outputs": [],
   "source": [
    "\n",
    "# set seed\n",
    "np.random.seed(1738)\n"
   ]
  },
  {
   "cell_type": "code",
   "execution_count": 3,
   "id": "72776f49",
   "metadata": {},
   "outputs": [],
   "source": [
    "\n",
    "num_sentences = 100\n",
    "max_num = 2\n",
    "word1 = [\"I\"]\n",
    "word2 = [\"A\",\"M\"]\n",
    "word3 = [\"G\",\"R\",\"O\",\"O\",\"T\"]\n",
    "words = [word1,word2,word3]\n",
    "\n",
    "sentences = []\n",
    "\n",
    "\n",
    "for num_sentence in range(0,num_sentences):\n",
    "    new_words = []\n",
    "    for num_word in range(0,len(words)):\n",
    "        new_word = \"\"\n",
    "        new_words.append(words[num_word])\n",
    "        for num_letter in range(0,len(words[num_word])):\n",
    "            letter = words[num_word][num_letter]\n",
    "            num = round(np.random.uniform(1,max_num))\n",
    "            for i in range(0,num):\n",
    "                upper_lower = round(np.random.uniform(0,1))\n",
    "                if upper_lower == 0:\n",
    "                    letter = letter.lower()\n",
    "                new_word += letter\n",
    "        new_words[num_word] = new_word\n",
    "    sentences.append(new_words[0] + \" \" + new_words[1] + \" \" + new_words[2])\n",
    "    \n",
    "# sentences\n",
    "            \n"
   ]
  },
  {
   "cell_type": "code",
   "execution_count": 4,
   "id": "69d5d8cb",
   "metadata": {},
   "outputs": [
    {
     "data": {
      "text/plain": [
       "'ii AAMM ggRRooTT. II AaMM gRoOT. II aam ggROoot! Ii AaM ggrrOot? ii Amm gRoOOt? II AM grOOoTt! I aM gRooOT! i amm GgrOooT. ii am GROooTT! I Am ggRROoTT! i AM groOT. I aam ggrrooOot? ii aamm grrOott? I aMm GroooT! ii AMm ggRRooOoT. i aamm GRooot! i aam Grrooott! i aMM GroOt. I aaMM GGRrOOoT? Ii Aam gROoot! Ii aaM GRooott! ii aamm gRrOoOt! I aaM GRoot! i am GgrroOott. i am Ggrroott! I aMm ggRooOT? ii Amm GrOott? Ii aMM grooot! I Am ggRoooot! i AAm GRoooT! II aM grooott! i AM GrooooTt! Ii aam grrooOT. i AaM ggrooOt. I am ggrrOOott. ii Amm ggrOoT! i aaMm GrroooTt! ii AMM grrooOtt? I AM GrOOt! I AAmm gRoooott? ii AAmm GGrOOoT! Ii aMm GrrOOTT. II AaM gROoooT? ii aamm grOoOt. ii aam GgRooOoT? I aaMM ggRroOt! ii AM grroOott. ii Aam ggRooOot! Ii aamm grroot! ii amm GRroooT! I aaMm ggRRooT? I aMm GrOoOoT? i AM GgrOOOTT. i AAMm GgrOOOtt? ii aMm GRrOoOOTt! I Am GGrooT. ii aaM GgrrooOoT. I AaM GgrOoOt! I amm gRroOOt? ii AAm GRrOoTT! ii AAMm GRRoooT. ii AAMM ggrooot! I AMM GRrOOoT! Ii AaMm GgRrOoOoT! i aaMm GrOoOT. ii amm grrOoOot? i Aam Ggrrooot. I AM grOOot! ii AAMm ggrOooT? i AM GRROoott? ii Amm GGrooT! ii AaM GroOOT? ii aam GRRoooTt. I AAMm grrOOOoTt! ii aamm GRrooot! ii AAM ggRROoTT! I AAMm ggROOOT! I aam GrroooT! ii amm gRRooott! Ii aamm groOoT? i aaM gRoooT. ii AM grOOot. ii AaM groOT! ii aam GrroOOt. Ii Am ggRrOOOtt! i AAM gROoott. i aaM grroott! Ii AAMM ggRroott! Ii am grrOoT! I AAM gRooT. ii AaM GgrooT. Ii aaM Grroot? i Aam GRRoOott! I aM gRroOt! I AAM ggRooot! i aMm GROoot. i AAMm GgrrOooT! I AaM ggRROOoott. i aM GrooOoT! I aaMM ggroooTT? '"
      ]
     },
     "execution_count": 4,
     "metadata": {},
     "output_type": "execute_result"
    }
   ],
   "source": [
    "\n",
    "article = \"\"\n",
    "punc_options = [\".\",\"!\",\"?\"]\n",
    "max_punc = 3\n",
    "\n",
    "for sentence in sentences:\n",
    "    punc = \"\"\n",
    "    punc_choice = punc_options[round(np.random.uniform(0,len(punc_options)-1))]\n",
    "    num_punc = round(np.random.uniform(1,max_punc))\n",
    "    for i in range(0,num_punc):\n",
    "        punc += punc_choice\n",
    "    \n",
    "    article = article + sentence + punc_choice + \" \"\n",
    "    \n",
    "article\n"
   ]
  },
  {
   "cell_type": "code",
   "execution_count": null,
   "id": "514181cd",
   "metadata": {},
   "outputs": [],
   "source": []
  }
 ],
 "metadata": {
  "kernelspec": {
   "display_name": "Python 3",
   "language": "python",
   "name": "python3"
  },
  "language_info": {
   "codemirror_mode": {
    "name": "ipython",
    "version": 3
   },
   "file_extension": ".py",
   "mimetype": "text/x-python",
   "name": "python",
   "nbconvert_exporter": "python",
   "pygments_lexer": "ipython3",
   "version": "3.7.7"
  }
 },
 "nbformat": 4,
 "nbformat_minor": 5
}
